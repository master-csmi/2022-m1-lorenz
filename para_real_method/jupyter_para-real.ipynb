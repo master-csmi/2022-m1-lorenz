{
 "cells": [
  {
   "cell_type": "markdown",
   "metadata": {},
   "source": [
    "# Para-real Method on the Lorenz system\n",
    "by LECOURTIER Frédérique"
   ]
  },
  {
   "cell_type": "code",
   "execution_count": 5,
   "metadata": {},
   "outputs": [],
   "source": [
    "import numpy\n",
    "import mpi4py\n",
    "mpi4py.rc.initialize = False  # do not initialize MPI automatically\n",
    "mpi4py.rc.finalize = False    # do not finalize MPI automatically\n",
    "from mpi4py import MPI # import the 'MPI' module"
   ]
  },
  {
   "cell_type": "markdown",
   "metadata": {},
   "source": [
    "## Para-real method description\n",
    "\n",
    "Para-real method solves an initial value problem of the form :\n",
    "\n",
    "$$X'(t)=f(t,X(t)), \\quad X(t_0)=0 \\quad with \\quad  t_0\\le t\\le T$$\n",
    "\n",
    "Parareal now requires a decomposition of the time interval $[t_0,T]$ into P so-called time slices $[t_j,t_{j+1}]$\n",
    "such that\n",
    "\n",
    "$$[t_0,T]=[t_0,t_1]\\cup [t_1,t_2]\\cup\\dots\\cup[t_{P-1},t_P]$$\n",
    "\n",
    "Each time slice is assigned to one processing unit when parallelizing the algorithm, so that $P$ is equal to the number of processes."
   ]
  },
  {
   "cell_type": "markdown",
   "metadata": {},
   "source": [
    "## Application on the Lorenz ODE\n",
    "\n",
    "The Lorenz system :\n",
    "\n",
    "$$\\left\\{\\begin{align} \n",
    "    x'&=\\sigma(y-x) \\\\\n",
    "    y'&=x(r-z)-y \\\\\n",
    "    z'&=xy-bz\n",
    "\\end{align}\\right.$$\n",
    "\n",
    "To solve the Lorenz problem we will have:\n",
    "\n",
    "$$X'=\\begin{pmatrix}\n",
    "    x' \\\\\n",
    "    y' \\\\\n",
    "    z'\n",
    "\\end{pmatrix}, \\quad X=\\begin{pmatrix}\n",
    "    x \\\\\n",
    "    y \\\\\n",
    "    z\n",
    "\\end{pmatrix} \\quad et \\quad f(t,X)=\\begin{pmatrix}\n",
    "    \\sigma(y-x) \\\\\n",
    "    x(r-z)-y \\\\\n",
    "    xy-bz\n",
    "\\end{pmatrix}$$"
   ]
  },
  {
   "cell_type": "markdown",
   "metadata": {},
   "source": [
    "## Runge-Kutta of order 4\n",
    "\n",
    "The Runge Kutta method of order 4 is written :\n",
    "\n",
    "$$X_{n+1}=X_n+\\frac{\\Delta t}{6}\\left(K_1+2K_2+2K_3+K_4\\right)$$\n",
    "\n",
    "where \n",
    "\n",
    "$$\\left\\{\\begin{aligned}\n",
    "    K_1&=f(t_n,X_n) \\\\\n",
    "    K_2&=f\\left(t_n+\\frac{\\Delta t}{2},X_n+\\frac{1}{2} K_1\\Delta t\\right) \\\\\n",
    "    K_3&=f\\left(t_n+\\frac{\\Delta t}{2},X_n+\\frac{1}{2} K_2\\Delta t\\right) \\\\\n",
    "    K_4&=f\\left(t_n+\\Delta t,X_n+K_3\\Delta t\\right)\n",
    "\\end{aligned}\\right.$$"
   ]
  },
  {
   "cell_type": "code",
   "execution_count": 1,
   "metadata": {},
   "outputs": [],
   "source": [
    "def f(t_n, X_n, σ, b, r): #X_n=(x_n,y_n,z_n)\n",
    "    (x,y,z)=X_n\n",
    "    \n",
    "    f_1 = σ*(y-x)\n",
    "    f_2 = x*(r-z)-y\n",
    "    f_3 = x*y-b*z\n",
    "    return np.array([f_1,f_2,f_3])"
   ]
  },
  {
   "cell_type": "code",
   "execution_count": 2,
   "metadata": {},
   "outputs": [],
   "source": [
    "def RK4_Lorenz(γ,X0,N,T): #we have N+1 discretization points\n",
    "    (σ,b,r)=γ\n",
    "    \n",
    "    dt=T/N\n",
    "    \n",
    "    X = np.zeros( (N+1, len(X0)) )\n",
    "    X[0] = X0\n",
    "    \n",
    "    t=0. #=t_0\n",
    "    for n in range(1,N+1):\n",
    "        K1=f(t, X[n-1],σ,b,r)\n",
    "        K2=f(t+dt/2., X[n-1] + 1./2. * K1 * dt,σ,b,r)\n",
    "        K3=f(t+dt/2., X[n-1] + 1./2. * K2 * dt,σ,b,r)\n",
    "        K4=f(t+dt, X[n-1]+ K3 * dt,σ,b,r)\n",
    "        \n",
    "        X[n]=X[n-1]+ dt/6.* (K1+2.*K2+2.*K3+K4)\n",
    "        t+=dt\n",
    "        \n",
    "    return X[:,0],X[:,1],X[:,2]"
   ]
  },
  {
   "cell_type": "markdown",
   "metadata": {},
   "source": [
    "## Para-real method algorithm"
   ]
  },
  {
   "cell_type": "code",
   "execution_count": null,
   "metadata": {},
   "outputs": [],
   "source": [
    "mpirun\n",
    "\n",
    "os.exec\n",
    "os.system(\"\")"
   ]
  },
  {
   "cell_type": "code",
   "execution_count": null,
   "metadata": {},
   "outputs": [],
   "source": [
    "from para-real.py "
   ]
  },
  {
   "cell_type": "code",
   "execution_count": null,
   "metadata": {},
   "outputs": [],
   "source": [
    "MPI.Init()      # manual initialization of the MPI environment\n",
    "\n",
    "MPI.Finalize()"
   ]
  },
  {
   "cell_type": "code",
   "execution_count": null,
   "metadata": {},
   "outputs": [],
   "source": [
    "%%bash\n",
    "mpiexec"
   ]
  }
 ],
 "metadata": {
  "kernelspec": {
   "display_name": "Python 3",
   "language": "python",
   "name": "python3"
  },
  "language_info": {
   "codemirror_mode": {
    "name": "ipython",
    "version": 3
   },
   "file_extension": ".py",
   "mimetype": "text/x-python",
   "name": "python",
   "nbconvert_exporter": "python",
   "pygments_lexer": "ipython3",
   "version": "3.8.10"
  }
 },
 "nbformat": 4,
 "nbformat_minor": 4
}
