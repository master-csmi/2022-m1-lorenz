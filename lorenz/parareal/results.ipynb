{
 "cells": [
  {
   "cell_type": "markdown",
   "metadata": {},
   "source": [
    "# Para-real Method on the Lorenz system\n",
    "by LECOURTIER Frédérique"
   ]
  },
  {
   "cell_type": "code",
   "execution_count": 30,
   "metadata": {},
   "outputs": [],
   "source": [
    "import numpy as np\n",
    "import mpi4py\n",
    "import os\n",
    "mpi4py.rc.initialize = False  # do not initialize MPI automatically\n",
    "mpi4py.rc.finalize = False    # do not finalize MPI automatically\n",
    "from mpi4py import MPI # import the 'MPI' module"
   ]
  },
  {
   "cell_type": "code",
   "execution_count": 31,
   "metadata": {},
   "outputs": [],
   "source": [
    "from parareal import *"
   ]
  },
  {
   "cell_type": "markdown",
   "metadata": {},
   "source": [
    "## Application on the Lorenz ODE\n",
    "\n",
    "The Lorenz system :\n",
    "\n",
    "$$\\left\\{\\begin{align} \n",
    "    x'&=\\sigma(y-x) \\\\\n",
    "    y'&=x(r-z)-y \\\\\n",
    "    z'&=xy-bz\n",
    "\\end{align}\\right.$$\n",
    "\n",
    "To solve the Lorenz problem we will have:\n",
    "\n",
    "$$X'=\\begin{pmatrix}\n",
    "    x' \\\\\n",
    "    y' \\\\\n",
    "    z'\n",
    "\\end{pmatrix}, \\quad X=\\begin{pmatrix}\n",
    "    x \\\\\n",
    "    y \\\\\n",
    "    z\n",
    "\\end{pmatrix} \\quad et \\quad f(t,X)=\\begin{pmatrix}\n",
    "    \\sigma(y-x) \\\\\n",
    "    x(r-z)-y \\\\\n",
    "    xy-bz\n",
    "\\end{pmatrix}$$"
   ]
  },
  {
   "cell_type": "code",
   "execution_count": 32,
   "metadata": {},
   "outputs": [],
   "source": [
    "# function that represents the Lorenz system\n",
    "def lorenz(t, X, gamma): #X=(x,y,z)\n",
    "    (sigma,b,r)=gamma\n",
    "    (x,y,z)=X\n",
    "    \n",
    "    f_1 = sigma*(y-x)\n",
    "    f_2 = x*(r-z)-y\n",
    "    f_3 = x*y-b*z\n",
    "    return np.array([f_1,f_2,f_3])"
   ]
  },
  {
   "cell_type": "code",
   "execution_count": 37,
   "metadata": {},
   "outputs": [
    {
     "name": "stdout",
     "output_type": "stream",
     "text": [
      "Overwriting main.py\n"
     ]
    }
   ],
   "source": [
    "%%writefile main.py\n",
    "gamma=(10.,8./3,28.) #(σ,b,r)\n",
    "X0=[5.,5.,5.] #(x0,y0,z0)\n",
    "t0=0.\n",
    "T=20.\n",
    "dt_G=0.1\n",
    "dt_F=0.01\n",
    "sol=parareal_method(X0,t0,T,lorenz,dt_G,dt_F,gamma,True)"
   ]
  },
  {
   "cell_type": "code",
   "execution_count": 34,
   "metadata": {},
   "outputs": [
    {
     "data": {
      "text/plain": [
       "256"
      ]
     },
     "execution_count": 34,
     "metadata": {},
     "output_type": "execute_result"
    }
   ],
   "source": [
    "os.system(\"python3 main.py\")"
   ]
  },
  {
   "cell_type": "code",
   "execution_count": 38,
   "metadata": {},
   "outputs": [
    {
     "data": {
      "text/plain": [
       "''"
      ]
     },
     "execution_count": 38,
     "metadata": {},
     "output_type": "execute_result"
    }
   ],
   "source": [
    "os.popen('mpiexec -n 3 python3 main.py').read()"
   ]
  },
  {
   "cell_type": "code",
   "execution_count": 35,
   "metadata": {},
   "outputs": [],
   "source": [
    "def RK4_Lorenz(γ,X0,N,T): #we have N+1 discretization points\n",
    "    (σ,b,r)=γ\n",
    "    \n",
    "    dt=T/N\n",
    "    \n",
    "    X = np.zeros( (N+1, len(X0)) )\n",
    "    X[0] = X0\n",
    "    \n",
    "    t=0. #=t_0\n",
    "    for n in range(1,N+1):\n",
    "        K1=f(t, X[n-1],σ,b,r)\n",
    "        K2=f(t+dt/2., X[n-1] + 1./2. * K1 * dt,σ,b,r)\n",
    "        K3=f(t+dt/2., X[n-1] + 1./2. * K2 * dt,σ,b,r)\n",
    "        K4=f(t+dt, X[n-1]+ K3 * dt,σ,b,r)\n",
    "        \n",
    "        X[n]=X[n-1]+ dt/6.* (K1+2.*K2+2.*K3+K4)\n",
    "        t+=dt\n",
    "        \n",
    "    return X[:,0],X[:,1],X[:,2]"
   ]
  },
  {
   "cell_type": "markdown",
   "metadata": {},
   "source": [
    "## Para-real method algorithm"
   ]
  },
  {
   "cell_type": "code",
   "execution_count": 23,
   "metadata": {},
   "outputs": [
    {
     "ename": "NameError",
     "evalue": "name 'mpirun' is not defined",
     "output_type": "error",
     "traceback": [
      "\u001b[0;31m---------------------------------------------------------------------------\u001b[0m",
      "\u001b[0;31mNameError\u001b[0m                                 Traceback (most recent call last)",
      "\u001b[0;32m<ipython-input-23-86c762733b1c>\u001b[0m in \u001b[0;36m<module>\u001b[0;34m\u001b[0m\n\u001b[0;32m----> 1\u001b[0;31m \u001b[0mmpirun\u001b[0m\u001b[0;34m\u001b[0m\u001b[0;34m\u001b[0m\u001b[0m\n\u001b[0m\u001b[1;32m      2\u001b[0m \u001b[0;34m\u001b[0m\u001b[0m\n\u001b[1;32m      3\u001b[0m \u001b[0mos\u001b[0m\u001b[0;34m.\u001b[0m\u001b[0mexec\u001b[0m\u001b[0;34m\u001b[0m\u001b[0;34m\u001b[0m\u001b[0m\n\u001b[1;32m      4\u001b[0m \u001b[0mos\u001b[0m\u001b[0;34m.\u001b[0m\u001b[0msystem\u001b[0m\u001b[0;34m(\u001b[0m\u001b[0;34m\"\"\u001b[0m\u001b[0;34m)\u001b[0m\u001b[0;34m\u001b[0m\u001b[0;34m\u001b[0m\u001b[0m\n",
      "\u001b[0;31mNameError\u001b[0m: name 'mpirun' is not defined"
     ]
    }
   ],
   "source": [
    "mpirun\n",
    "\n",
    "os.exec\n",
    "os.system(\"\")"
   ]
  },
  {
   "cell_type": "code",
   "execution_count": null,
   "metadata": {},
   "outputs": [],
   "source": [
    "from para-real.py "
   ]
  },
  {
   "cell_type": "code",
   "execution_count": null,
   "metadata": {},
   "outputs": [],
   "source": [
    "MPI.Init()      # manual initialization of the MPI environment\n",
    "\n",
    "MPI.Finalize()"
   ]
  },
  {
   "cell_type": "code",
   "execution_count": null,
   "metadata": {},
   "outputs": [],
   "source": [
    "%%bash\n",
    "mpiexec"
   ]
  }
 ],
 "metadata": {
  "interpreter": {
   "hash": "916dbcbb3f70747c44a77c7bcd40155683ae19c65e1c03b4aa3499c5328201f1"
  },
  "kernelspec": {
   "display_name": "Python 3.8.10 64-bit",
   "language": "python",
   "name": "python3"
  },
  "language_info": {
   "codemirror_mode": {
    "name": "ipython",
    "version": 3
   },
   "file_extension": ".py",
   "mimetype": "text/x-python",
   "name": "python",
   "nbconvert_exporter": "python",
   "pygments_lexer": "ipython3",
   "version": "3.8.10"
  }
 },
 "nbformat": 4,
 "nbformat_minor": 4
}
