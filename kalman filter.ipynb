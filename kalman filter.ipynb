{
 "cells": [
  {
   "cell_type": "code",
   "execution_count": 131,
   "metadata": {},
   "outputs": [],
   "source": [
    "import numpy as np\n",
    "from filterpy.kalman import EnsembleKalmanFilter \n",
    "from filterpy.common import Q_discrete_white_noise\n",
    "import matplotlib.pyplot as plt\n",
    "from mpl_toolkits.mplot3d import Axes3D\n",
    "from scipy.integrate import solve_ivp\n",
    "import time"
   ]
  },
  {
   "cell_type": "code",
   "execution_count": 132,
   "metadata": {},
   "outputs": [],
   "source": [
    "def f(t_n,X_n,σ, b, r): #X_n=(x_n,y_n,z_n)\n",
    "    (x,y,z)=X_n\n",
    "    \n",
    "    f_1 = σ*(y-x)\n",
    "    f_2 = x*(r-z)-y\n",
    "    f_3 = x*y-b*z\n",
    "    return np.array([f_1,f_2,f_3])"
   ]
  },
  {
   "cell_type": "code",
   "execution_count": 133,
   "metadata": {},
   "outputs": [],
   "source": [
    "def RK4_Lorenz(γ,X0,N,T): #we have N+1 discretization points\n",
    "    (σ,b,r)=γ\n",
    "    \n",
    "    dt=T/N\n",
    "    \n",
    "    X = np.zeros( (N+1, len(X0)) )\n",
    "    T=np.zeros(N+1)\n",
    "    X[0] = X0\n",
    "    \n",
    "    t=0. #=t_0\n",
    "    for n in range(1,N+1):\n",
    "        \n",
    "        K1=f(t, X[n-1],σ,b,r)\n",
    "        K2=f(t+dt/2., X[n-1] + 1./2. * K1 * dt,σ,b,r)\n",
    "        K3=f(t+dt/2., X[n-1] + 1./2. * K2 * dt,σ,b,r)\n",
    "        K4=f(t+dt, X[n-1]+ K3 * dt,σ,b,r)\n",
    "        T[n]=t\n",
    "        X[n]=X[n-1]+ dt/6.* (K1+2.*K2+2.*K3+K4)\n",
    "        t+=dt\n",
    "        \n",
    "    return X[:,0],X[:,1],X[:,2],T"
   ]
  },
  {
   "cell_type": "code",
   "execution_count": 134,
   "metadata": {},
   "outputs": [],
   "source": [
    "γ=(12.,6.,12.) #(σ,b,r)\n",
    "X0=(-10.,-10.,25.) #(x0,y0,z0)\n",
    "N=int(5/0.01)\n",
    "T=5"
   ]
  },
  {
   "cell_type": "code",
   "execution_count": 135,
   "metadata": {},
   "outputs": [],
   "source": [
    "lorenz1=RK4_Lorenz(γ,X0,N,T)"
   ]
  },
  {
   "cell_type": "code",
   "execution_count": 136,
   "metadata": {},
   "outputs": [],
   "source": [
    "γ=(11.,6.,11.) #(σ,b,r)\n",
    "X0=(-10.,-10.,25.) #(x0,y0,z0)\n",
    "N=int(5/0.1)\n",
    "T=5"
   ]
  },
  {
   "cell_type": "code",
   "execution_count": 137,
   "metadata": {},
   "outputs": [],
   "source": [
    "lorenz2=RK4_Lorenz(γ,X0,N,T)"
   ]
  },
  {
   "cell_type": "code",
   "execution_count": 138,
   "metadata": {},
   "outputs": [],
   "source": [
    "def plot_lorenz(num_figure,fct,γ,X0,N,T):\n",
    "    x,y,z=fct(γ,X0,N,T)\n",
    "    fig=plt.figure(figsize=(18,5))\n",
    "    \n",
    "    #plot 2D x en fonction de y\n",
    "    ax0 = fig.add_subplot(1,3,1)\n",
    "    ax0.set_title(str(fct.__name__)+'\\n'+num_figure+'\\n')\n",
    "    ax0.plot(x,y)\n",
    "    \n",
    "    ax0.set_xlabel(\"x\")\n",
    "    ax0.set_ylabel(\"y\")\n",
    "    \n",
    "    #plot 2D x en fonction de z\n",
    "    ax1 = fig.add_subplot(1,3,2)\n",
    "    ax1.set_title(fr\"$\\sigma={γ[0]}, b={γ[1]}, r={γ[2]},$\" +'\\n'+ fr\"$X0=({X0[0]}, {X0[1]}, {X0[2]}), N={N}, T={T}$\"+'\\n')\n",
    "    ax1.plot(x,z)\n",
    "    \n",
    "    ax1.set_xlabel(\"x\")\n",
    "    ax1.set_ylabel(\"z\")\n",
    "    \n",
    "    #plot 3D\n",
    "    ax3 = fig.add_subplot(1,3,3, projection='3d')\n",
    "    ax3.plot(x,y,z)\n",
    "    ax3.plot(X0[0],X0[1],X0[2],\"r.\")\n",
    "    \n",
    "    ax3.set_xlabel(\"x\")\n",
    "    ax3.set_ylabel(\"y\")\n",
    "    ax3.set_zlabel(\"z\")\n",
    "    ax3.view_init(28,-95)\n",
    "    return x,y,z"
   ]
  },
  {
   "cell_type": "code",
   "execution_count": 139,
   "metadata": {},
   "outputs": [
    {
     "data": {
      "text/plain": [
       "[<matplotlib.lines.Line2D at 0x7fae3ef275e0>]"
      ]
     },
     "execution_count": 139,
     "metadata": {},
     "output_type": "execute_result"
    },
    {
     "data": {
      "image/png": "[encoded data removed]",
      "text/plain": [
       "<Figure size 1296x360 with 1 Axes>"
      ]
     },
     "metadata": {
      "needs_background": "light"
     },
     "output_type": "display_data"
    }
   ],
   "source": [
    "fig=plt.figure(figsize=(18,5))\n",
    "ax1 = fig.add_subplot(1,3,2)\n",
    "ax1.plot(lorenz1[3],lorenz1[0])\n",
    "ax1.plot(lorenz2[3],lorenz2[0])"
   ]
  },
  {
   "cell_type": "code",
   "execution_count": 143,
   "metadata": {},
   "outputs": [
    {
     "name": "stdout",
     "output_type": "stream",
     "text": [
      "[-5.821065061731793, -2.4298211966501264, -1.6125055498990353, -2.0144896365552167, -3.234347403816121, -5.541690626151436, -8.74325993769927, -10.380884632103687, -8.858262325716588, -6.5928243893971095, -5.803434024562643, -6.250211194509312, -7.442515575918884, -8.458592977349767, -8.41863976492276, -7.620094198515472, -6.785746431921357, -6.549361062726566, -6.863207092893042, -7.3412836876106695, -7.652359524582112, -7.431049296642938, -7.166415899961688, -7.202146551646347, -7.324992587254126, -7.634674752197199, -7.824968118207782, -7.467939548291819, -7.2426610895301335, -7.169288859288042, -7.295867248135927, -7.395682946081807, -7.3603770429945685, -7.285086658216839, -7.275713593279712, -7.2407223154048905, -7.30436194677589, -7.399070628063472, -7.3840406595644605, -7.344923178778893, -7.332712677342433, -7.437334550768322, -7.292852852201841, -7.388138738954164, -7.341568520491964, -7.344356567668567, -7.540670823095758, -7.4705178194404365, -7.626202051203736, -7.797156266083417]\n"
     ]
    }
   ],
   "source": [
    "def hx(x):\n",
    "   return x\n",
    "\n",
    "\n",
    "def fx(x, dt,σ,b,r):\n",
    "    def f(t_n,X_n,σ, b, r): #X_n=(x_n,y_n,z_n)\n",
    "        (x,y,z)=X_n\n",
    "    \n",
    "        f_1 = σ*(y-x)\n",
    "        f_2 = x*(r-z)-y\n",
    "        f_3 = x*y-b*z\n",
    "        return np.array([f_1,f_2,f_3])\n",
    "    K1=f(t, x,σ,b,r)\n",
    "    K2=f(t+dt/2., x + 1./2. * K1 * dt,σ,b,r)\n",
    "    K3=f(t+dt/2., x + 1./2. * K2 * dt,σ,b,r)\n",
    "    K4=f(t+dt, x+ K3 * dt,σ,b,r)\n",
    "    X_next=x+ dt/6.* (K1+2.*K2+2.*K3+K4)\n",
    "    return X_next\n",
    "\n",
    "γ=(11.,6.,10.) #(σ,b,r)\n",
    "N=10\n",
    "T=5\n",
    "\n",
    "x = np.array([-10.,-10.,25.])#(x0,y0,z0)\n",
    "P = np.eye(3) * 2.\n",
    "dt= N*0.01\n",
    "f = EnsembleKalmanFilter (x=x, P=P, dim_z=3, dt=dt, N=8,\n",
    "         hx=hx, fx=lambda x,dt:fx(x,dt,11.,6.,11.))\n",
    "\n",
    "std_noise = np.eye(3)*0.001 \n",
    "f.R *= std_noise # matrice de cov associer a la mesure\n",
    "f.Q = Q_discrete_white_noise(3, dt, .01) #bruit blanc centree en 0\n",
    "\n",
    "def read_sensor(index):\n",
    "    return np.array([lorenz1[0][index],lorenz1[1][index],lorenz1[2][index]])\n",
    "t=dt  \n",
    "index=N\n",
    "tab_etat=[]\n",
    "tab_temps=[]\n",
    "while (t<T):\n",
    "    z = read_sensor(index)\n",
    "    f.predict()\n",
    "    f.update(z)\n",
    "    tab_etat.append(f.x[0])\n",
    "    tab_temps.append(t)\n",
    "    index+=N                 \n",
    "    t=t+dt\n",
    "print(tab_etat)"
   ]
  },
  {
   "cell_type": "code",
   "execution_count": 148,
   "metadata": {},
   "outputs": [
    {
     "data": {
      "text/plain": [
       "[<matplotlib.lines.Line2D at 0x7fae404f0fd0>]"
      ]
     },
     "execution_count": 148,
     "metadata": {},
     "output_type": "execute_result"
    },
    {
     "data": {
      "image/png": "[encoded data removed]",
      "text/plain": [
       "<Figure size 1296x360 with 1 Axes>"
      ]
     },
     "metadata": {
      "needs_background": "light"
     },
     "output_type": "display_data"
    }
   ],
   "source": [
    "fig=plt.figure(figsize=(18,5))\n",
    "ax1 = fig.add_subplot(1,3,2)\n",
    "ax1.plot(lorenz1[3],lorenz1[0])\n",
    "ax1.plot(lorenz2[3],lorenz2[0])\n",
    "ax1.plot(tab_temps,tab_etat)\n"
   ]
  },
  {
   "cell_type": "code",
   "execution_count": null,
   "metadata": {},
   "outputs": [],
   "source": []
  },
  {
   "cell_type": "code",
   "execution_count": null,
   "metadata": {},
   "outputs": [],
   "source": []
  }
 ],
 "metadata": {
  "kernelspec": {
   "display_name": "Python 3",
   "language": "python",
   "name": "python3"
  },
  "language_info": {
   "codemirror_mode": {
    "name": "ipython",
    "version": 3
   },
   "file_extension": ".py",
   "mimetype": "text/x-python",
   "name": "python",
   "nbconvert_exporter": "python",
   "pygments_lexer": "ipython3",
   "version": "3.8.3"
  }
 },
 "nbformat": 4,
 "nbformat_minor": 4
}
